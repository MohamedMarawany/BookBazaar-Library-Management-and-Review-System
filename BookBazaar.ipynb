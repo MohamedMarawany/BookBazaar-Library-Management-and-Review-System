{
 "cells": [
  {
   "cell_type": "code",
   "execution_count": 1,
   "metadata": {},
   "outputs": [
    {
     "name": "stderr",
     "output_type": "stream",
     "text": [
      "ERROR: Could not find a version that satisfies the requirement sqlite3 (from versions: none)\n",
      "ERROR: No matching distribution found for sqlite3\n",
      "\n",
      "[notice] A new release of pip is available: 24.0 -> 24.3.1\n",
      "[notice] To update, run: C:\\Users\\DELL\\AppData\\Local\\Microsoft\\WindowsApps\\PythonSoftwareFoundation.Python.3.11_qbz5n2kfra8p0\\python.exe -m pip install --upgrade pip\n"
     ]
    }
   ],
   "source": [
    "!pip install sqlite3"
   ]
  },
  {
   "cell_type": "markdown",
   "metadata": {},
   "source": [
    "# Task 1:\n",
    "\n",
    "### Set Up the Relational Database with SQLite\n",
    "\n",
    "## Database Schema\n",
    "- **Users**: `id`, `username`, `email`, `password`\n",
    "- **Authors**: `id`, `name`, `country`\n",
    "- **Books**: `id`, `title`, `author_id`, `genre`, `published_year`"
   ]
  },
  {
   "cell_type": "code",
   "execution_count": 2,
   "metadata": {},
   "outputs": [
    {
     "name": "stdout",
     "output_type": "stream",
     "text": [
      "Database setup complete!\n"
     ]
    }
   ],
   "source": [
    "import sqlite3\n",
    "\n",
    "# Connect to SQLite (or create it if it doesn't exist)\n",
    "conn = sqlite3.connect('bookbazaar.db')\n",
    "cursor = conn.cursor()\n",
    "\n",
    "# Create Users table\n",
    "cursor.execute('''\n",
    "    CREATE TABLE IF NOT EXISTS Users (\n",
    "        id INTEGER PRIMARY KEY AUTOINCREMENT,\n",
    "        username TEXT NOT NULL UNIQUE,\n",
    "        email TEXT NOT NULL UNIQUE,\n",
    "        password TEXT NOT NULL\n",
    "    )\n",
    "''')\n",
    "\n",
    "# Create Authors table\n",
    "cursor.execute('''\n",
    "    CREATE TABLE IF NOT EXISTS Authors (\n",
    "        id INTEGER PRIMARY KEY AUTOINCREMENT,\n",
    "        name TEXT NOT NULL,\n",
    "        country TEXT NOT NULL\n",
    "    )\n",
    "''')\n",
    "\n",
    "# Create Books table\n",
    "cursor.execute('''\n",
    "    CREATE TABLE IF NOT EXISTS Books (\n",
    "        id INTEGER PRIMARY KEY AUTOINCREMENT,\n",
    "        title TEXT NOT NULL,\n",
    "        author_id INTEGER NOT NULL,\n",
    "        genre TEXT NOT NULL,\n",
    "        published_year INTEGER NOT NULL,\n",
    "        FOREIGN KEY (author_id) REFERENCES Authors(id)\n",
    "    )\n",
    "''')\n",
    "\n",
    "# Commit changes and close the connection\n",
    "conn.commit()\n",
    "conn.close()\n",
    "print(\"Database setup complete!\")"
   ]
  },
  {
   "cell_type": "markdown",
   "metadata": {},
   "source": [
    "# Task 2:\n",
    "\n",
    "###  Design the Relational Database Schema"
   ]
  },
  {
   "cell_type": "code",
   "execution_count": 3,
   "metadata": {},
   "outputs": [
    {
     "name": "stdout",
     "output_type": "stream",
     "text": [
      "Sample data inserted!\n"
     ]
    }
   ],
   "source": [
    "conn = sqlite3.connect('bookbazaar.db')\n",
    "cursor = conn.cursor()\n",
    "\n",
    "# Insert sample authors\n",
    "cursor.execute(\"INSERT INTO Authors (name, country) VALUES ('J.K. Rowling', 'UK')\")\n",
    "cursor.execute(\"INSERT INTO Authors (name, country) VALUES ('J.R.R. Tolkien', 'UK')\")\n",
    "\n",
    "# Insert sample books\n",
    "cursor.execute(\"INSERT INTO Books (title, author_id, genre, published_year) VALUES ('Harry Potter', 1, 'Fantasy', 1997)\")\n",
    "cursor.execute(\"INSERT INTO Books (title, author_id, genre, published_year) VALUES ('The Hobbit', 2, 'Fantasy', 1937)\")\n",
    "\n",
    "conn.commit()\n",
    "conn.close()\n",
    "print(\"Sample data inserted!\")"
   ]
  },
  {
   "cell_type": "markdown",
   "metadata": {},
   "source": [
    "# Task 3:\n",
    "\n",
    "### Connect Python to SQLite"
   ]
  },
  {
   "cell_type": "code",
   "execution_count": 4,
   "metadata": {},
   "outputs": [
    {
     "name": "stdout",
     "output_type": "stream",
     "text": [
      "Connected to SQLite database!\n",
      "Connection closed.\n"
     ]
    }
   ],
   "source": [
    "def connect_to_db():\n",
    "    try:\n",
    "        conn = sqlite3.connect('bookbazaar.db')\n",
    "        print(\"Connected to SQLite database!\")\n",
    "        return conn\n",
    "    except sqlite3.Error as e:\n",
    "        print(f\"Error connecting to SQLite: {e}\")\n",
    "        return None\n",
    "\n",
    "# Test the connection\n",
    "conn = connect_to_db()\n",
    "if conn:\n",
    "    conn.close()\n",
    "    print(\"Connection closed.\")"
   ]
  },
  {
   "cell_type": "markdown",
   "metadata": {},
   "source": [
    "# Task 4:\n",
    "\n",
    "### Title: Implement CRUD Operations on SQLite via Python"
   ]
  },
  {
   "cell_type": "code",
   "execution_count": 5,
   "metadata": {},
   "outputs": [],
   "source": [
    "# Insert a new book\n",
    "def insert_book(title, author_id, genre, published_year):\n",
    "    conn = connect_to_db()\n",
    "    cursor = conn.cursor()\n",
    "    cursor.execute('''\n",
    "        INSERT INTO Books (title, author_id, genre, published_year)\n",
    "        VALUES (?, ?, ?, ?)\n",
    "    ''', (title, author_id, genre, published_year))\n",
    "    conn.commit()\n",
    "    conn.close()\n",
    "\n",
    "# Retrieve all books\n",
    "def get_all_books():\n",
    "    conn = connect_to_db()\n",
    "    cursor = conn.cursor()\n",
    "    cursor.execute('SELECT * FROM Books')\n",
    "    books = cursor.fetchall()\n",
    "    conn.close()\n",
    "    return books\n",
    "\n",
    "# Retrieve a book by ID\n",
    "def get_book_by_id(book_id):\n",
    "    conn = connect_to_db()\n",
    "    cursor = conn.cursor()\n",
    "    cursor.execute('SELECT * FROM Books WHERE id = ?', (book_id,))\n",
    "    book = cursor.fetchone()\n",
    "    conn.close()\n",
    "    return book\n",
    "\n",
    "# Update a book\n",
    "def update_book(book_id, title=None, genre=None):\n",
    "    conn = connect_to_db()\n",
    "    cursor = conn.cursor()\n",
    "    if title:\n",
    "        cursor.execute('UPDATE Books SET title = ? WHERE id = ?', (title, book_id))\n",
    "    if genre:\n",
    "        cursor.execute('UPDATE Books SET genre = ? WHERE id = ?', (genre, book_id))\n",
    "    conn.commit()\n",
    "    conn.close()\n",
    "\n",
    "# Delete a book\n",
    "def delete_book(book_id):\n",
    "    conn = connect_to_db()\n",
    "    cursor = conn.cursor()\n",
    "    cursor.execute('DELETE FROM Books WHERE id = ?', (book_id,))\n",
    "    conn.commit()\n",
    "    conn.close()"
   ]
  },
  {
   "cell_type": "code",
   "execution_count": 6,
   "metadata": {},
   "outputs": [
    {
     "name": "stdout",
     "output_type": "stream",
     "text": [
      "Connected to SQLite database!\n",
      "Connected to SQLite database!\n",
      "[(1, 'Harry Potter', 1, 'Fantasy', 1997), (2, 'The Hobbit', 2, 'Fantasy', 1937), (3, 'The Lord of the Rings', 2, 'Fantasy', 1954)]\n",
      "Connected to SQLite database!\n",
      "(1, 'Harry Potter', 1, 'Fantasy', 1997)\n",
      "Connected to SQLite database!\n",
      "Connected to SQLite database!\n"
     ]
    }
   ],
   "source": [
    "# Test the functions\n",
    "# Insert a new book\n",
    "insert_book(\"The Lord of the Rings\", 2, \"Fantasy\", 1954)\n",
    "\n",
    "# Retrieve all books\n",
    "print(get_all_books())\n",
    "\n",
    "# Retrieve a book by ID\n",
    "print(get_book_by_id(1))\n",
    "\n",
    "# Update a book\n",
    "update_book(1, title=\"Harry Potter and the Sorcerer's Stone\")\n",
    "\n",
    "# Delete a book\n",
    "delete_book(3)"
   ]
  },
  {
   "cell_type": "code",
   "execution_count": null,
   "metadata": {},
   "outputs": [],
   "source": []
  }
 ],
 "metadata": {
  "kernelspec": {
   "display_name": "Python 3",
   "language": "python",
   "name": "python3"
  },
  "language_info": {
   "codemirror_mode": {
    "name": "ipython",
    "version": 3
   },
   "file_extension": ".py",
   "mimetype": "text/x-python",
   "name": "python",
   "nbconvert_exporter": "python",
   "pygments_lexer": "ipython3",
   "version": "3.11.9"
  }
 },
 "nbformat": 4,
 "nbformat_minor": 2
}
