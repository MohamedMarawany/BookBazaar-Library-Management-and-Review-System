{
 "cells": [
  {
   "cell_type": "code",
   "execution_count": 1,
   "metadata": {},
   "outputs": [
    {
     "name": "stdout",
     "output_type": "stream",
     "text": [
      "Requirement already satisfied: pymongo in c:\\users\\dell\\appdata\\local\\packages\\pythonsoftwarefoundation.python.3.11_qbz5n2kfra8p0\\localcache\\local-packages\\python311\\site-packages (4.10.1)\n",
      "Requirement already satisfied: dnspython<3.0.0,>=1.16.0 in c:\\users\\dell\\appdata\\local\\packages\\pythonsoftwarefoundation.python.3.11_qbz5n2kfra8p0\\localcache\\local-packages\\python311\\site-packages (from pymongo) (2.7.0)\n"
     ]
    }
   ],
   "source": [
    "# Install PyMongo\n",
    "!pip install pymongo"
   ]
  },
  {
   "cell_type": "code",
   "execution_count": 2,
   "metadata": {},
   "outputs": [],
   "source": [
    "from pymongo import MongoClient\n",
    "from pymongo.errors import ConnectionFailure, OperationFailure\n",
    "from bson.objectid import ObjectId"
   ]
  },
  {
   "cell_type": "code",
   "execution_count": 4,
   "metadata": {},
   "outputs": [
    {
     "name": "stdout",
     "output_type": "stream",
     "text": [
      "Database 'bookbazaar_reviews' and user 'bookbazaar_user' created successfully!\n"
     ]
    }
   ],
   "source": [
    "# MongoDB connection details (admin credentials)\n",
    "MONGO_URI_ADMIN = \"mongodb://localhost:27017/\"\n",
    "\n",
    "# Function to create database and user\n",
    "def setup_mongodb():\n",
    "    try:\n",
    "        # Connect to MongoDB as admin\n",
    "        client = MongoClient(MONGO_URI_ADMIN)\n",
    "        db = client.bookbazaar_reviews  # Create the database\n",
    "\n",
    "        # Create a user for the database\n",
    "        db.command(\"createUser\", \"bookbazaar_user\", pwd=\"userpassword\", roles=[\"readWrite\"])\n",
    "        print(\"Database 'bookbazaar_reviews' and user 'bookbazaar_user' created successfully!\")\n",
    "    except OperationFailure as e:\n",
    "        print(f\"Failed to create database or user: {e}\")\n",
    "    except ConnectionFailure as e:\n",
    "        print(f\"Failed to connect to MongoDB: {e}\")\n",
    "\n",
    "# Run the setup\n",
    "setup_mongodb()"
   ]
  },
  {
   "cell_type": "code",
   "execution_count": 5,
   "metadata": {},
   "outputs": [
    {
     "name": "stdout",
     "output_type": "stream",
     "text": [
      "Successfully connected to MongoDB!\n"
     ]
    }
   ],
   "source": [
    "# MongoDB connection details (user credentials)\n",
    "MONGO_URI = \"mongodb://localhost:27017/bookbazaar_reviews\"\n",
    "\n",
    "# Function to connect to MongoDB\n",
    "def connect_to_mongodb():\n",
    "    try:\n",
    "        # Create a connection to MongoDB\n",
    "        client = MongoClient(MONGO_URI)\n",
    "        # Ping the server to confirm the connection\n",
    "        client.admin.command('ping')\n",
    "        print(\"Successfully connected to MongoDB!\")\n",
    "        return client\n",
    "    except ConnectionFailure as e:\n",
    "        print(f\"Failed to connect to MongoDB: {e}\")\n",
    "        return None\n",
    "\n",
    "# Connect to MongoDB\n",
    "client = connect_to_mongodb()"
   ]
  },
  {
   "cell_type": "code",
   "execution_count": 8,
   "metadata": {},
   "outputs": [
    {
     "name": "stdout",
     "output_type": "stream",
     "text": [
      "Review added with ID: 6785095d1e3ffbdb680e6965\n",
      "Review added with ID: 6785095d1e3ffbdb680e6966\n",
      "Review added with ID: 6785095d1e3ffbdb680e6967\n"
     ]
    }
   ],
   "source": [
    "# Function to add a new review\n",
    "def add_review(book_id, user_id, rating, comment):\n",
    "    if client:\n",
    "        db = client.bookbazaar_reviews\n",
    "        reviews_collection = db.reviews\n",
    "        review = {\n",
    "            \"book_id\": book_id,\n",
    "            \"user_id\": user_id,\n",
    "            \"rating\": rating,\n",
    "            \"comment\": comment\n",
    "        }\n",
    "        result = reviews_collection.insert_one(review)\n",
    "        print(f\"Review added with ID: {result.inserted_id}\")\n",
    "    else:\n",
    "        print(\"No MongoDB connection.\")\n",
    "\n",
    "# Example usage\n",
    "add_review(book_id=1, user_id=1, rating=5, comment=\"Good book!\")\n",
    "add_review(book_id=2, user_id=2, rating=7, comment=\"Great book!\")\n",
    "add_review(book_id=3, user_id=3, rating=9, comment=\"Amazing book!\")"
   ]
  },
  {
   "cell_type": "code",
   "execution_count": 10,
   "metadata": {},
   "outputs": [
    {
     "name": "stdout",
     "output_type": "stream",
     "text": [
      "Reviews for book 1:\n",
      "{'_id': ObjectId('678508e91e3ffbdb680e6964'), 'book_id': 1, 'user_id': 1, 'rating': 5, 'comment': 'Great book!'}\n",
      "{'_id': ObjectId('6785095d1e3ffbdb680e6965'), 'book_id': 1, 'user_id': 1, 'rating': 5, 'comment': 'Good book!'}\n",
      "Reviews for book 2:\n",
      "{'_id': ObjectId('6785095d1e3ffbdb680e6966'), 'book_id': 2, 'user_id': 2, 'rating': 7, 'comment': 'Great book!'}\n",
      "Reviews for book 3:\n",
      "{'_id': ObjectId('6785095d1e3ffbdb680e6967'), 'book_id': 3, 'user_id': 3, 'rating': 9, 'comment': 'Amazing book!'}\n"
     ]
    }
   ],
   "source": [
    "# Function to retrieve reviews for a specific book\n",
    "def get_reviews_for_book(book_id):\n",
    "    if client:\n",
    "        db = client.bookbazaar_reviews\n",
    "        reviews_collection = db.reviews\n",
    "        reviews = list(reviews_collection.find({\"book_id\": book_id}))\n",
    "        print(f\"Reviews for book {book_id}:\")\n",
    "        for review in reviews:\n",
    "            print(review)\n",
    "    else:\n",
    "        print(\"No MongoDB connection.\")\n",
    "\n",
    "# Example usage\n",
    "get_reviews_for_book(book_id=1)\n",
    "get_reviews_for_book(book_id=2)\n",
    "get_reviews_for_book(book_id=3)"
   ]
  },
  {
   "cell_type": "code",
   "execution_count": 11,
   "metadata": {},
   "outputs": [
    {
     "name": "stdout",
     "output_type": "stream",
     "text": [
      "Review 6785095d1e3ffbdb680e6965 updated successfully.\n"
     ]
    }
   ],
   "source": [
    "# Function to update a review\n",
    "def update_review(review_id, new_rating, new_comment):\n",
    "    if client:\n",
    "        db = client.bookbazaar_reviews\n",
    "        reviews_collection = db.reviews\n",
    "        result = reviews_collection.update_one(\n",
    "            {\"_id\": review_id},\n",
    "            {\"$set\": {\"rating\": new_rating, \"comment\": new_comment}}\n",
    "        )\n",
    "        if result.modified_count > 0:\n",
    "            print(f\"Review {review_id} updated successfully.\")\n",
    "        else:\n",
    "            print(f\"No review found with ID {review_id}.\")\n",
    "    else:\n",
    "        print(\"No MongoDB connection.\")\n",
    "\n",
    "# Example usage (replace '...' with the actual _id of a review)\n",
    "update_review(review_id=ObjectId(\"6785095d1e3ffbdb680e6965\"), new_rating=4, new_comment=\"Bad book!\")"
   ]
  },
  {
   "cell_type": "code",
   "execution_count": 12,
   "metadata": {},
   "outputs": [
    {
     "name": "stdout",
     "output_type": "stream",
     "text": [
      "Reviews for book 1:\n",
      "{'_id': ObjectId('678508e91e3ffbdb680e6964'), 'book_id': 1, 'user_id': 1, 'rating': 5, 'comment': 'Great book!'}\n",
      "{'_id': ObjectId('6785095d1e3ffbdb680e6965'), 'book_id': 1, 'user_id': 1, 'rating': 4, 'comment': 'Bad book!'}\n",
      "Reviews for book 2:\n",
      "{'_id': ObjectId('6785095d1e3ffbdb680e6966'), 'book_id': 2, 'user_id': 2, 'rating': 7, 'comment': 'Great book!'}\n",
      "Reviews for book 3:\n",
      "{'_id': ObjectId('6785095d1e3ffbdb680e6967'), 'book_id': 3, 'user_id': 3, 'rating': 9, 'comment': 'Amazing book!'}\n"
     ]
    }
   ],
   "source": [
    "get_reviews_for_book(book_id=1)\n",
    "get_reviews_for_book(book_id=2)\n",
    "get_reviews_for_book(book_id=3)"
   ]
  },
  {
   "cell_type": "code",
   "execution_count": 13,
   "metadata": {},
   "outputs": [
    {
     "name": "stdout",
     "output_type": "stream",
     "text": [
      "Review 678508e91e3ffbdb680e6964 deleted successfully.\n"
     ]
    }
   ],
   "source": [
    "# Function to delete a review\n",
    "def delete_review(review_id):\n",
    "    if client:\n",
    "        db = client.bookbazaar_reviews\n",
    "        reviews_collection = db.reviews\n",
    "        result = reviews_collection.delete_one({\"_id\": review_id})\n",
    "        if result.deleted_count > 0:\n",
    "            print(f\"Review {review_id} deleted successfully.\")\n",
    "        else:\n",
    "            print(f\"No review found with ID {review_id}.\")\n",
    "    else:\n",
    "        print(\"No MongoDB connection.\")\n",
    "\n",
    "# Example usage (replace '...' with the actual _id of a review)\n",
    "delete_review(review_id=ObjectId(\"678508e91e3ffbdb680e6964\"))"
   ]
  },
  {
   "cell_type": "code",
   "execution_count": 14,
   "metadata": {},
   "outputs": [
    {
     "name": "stdout",
     "output_type": "stream",
     "text": [
      "Reviews for book 1:\n",
      "{'_id': ObjectId('6785095d1e3ffbdb680e6965'), 'book_id': 1, 'user_id': 1, 'rating': 4, 'comment': 'Bad book!'}\n",
      "Reviews for book 2:\n",
      "{'_id': ObjectId('6785095d1e3ffbdb680e6966'), 'book_id': 2, 'user_id': 2, 'rating': 7, 'comment': 'Great book!'}\n",
      "Reviews for book 3:\n",
      "{'_id': ObjectId('6785095d1e3ffbdb680e6967'), 'book_id': 3, 'user_id': 3, 'rating': 9, 'comment': 'Amazing book!'}\n"
     ]
    }
   ],
   "source": [
    "get_reviews_for_book(book_id=1)\n",
    "get_reviews_for_book(book_id=2)\n",
    "get_reviews_for_book(book_id=3)"
   ]
  },
  {
   "cell_type": "code",
   "execution_count": null,
   "metadata": {},
   "outputs": [],
   "source": []
  }
 ],
 "metadata": {
  "kernelspec": {
   "display_name": "Python 3",
   "language": "python",
   "name": "python3"
  },
  "language_info": {
   "codemirror_mode": {
    "name": "ipython",
    "version": 3
   },
   "file_extension": ".py",
   "mimetype": "text/x-python",
   "name": "python",
   "nbconvert_exporter": "python",
   "pygments_lexer": "ipython3",
   "version": "3.11.9"
  }
 },
 "nbformat": 4,
 "nbformat_minor": 2
}
